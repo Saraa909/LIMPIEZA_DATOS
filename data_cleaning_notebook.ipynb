{
 "cells": [
  {
   "cell_type": "markdown",
   "id": "04e27b2b",
   "metadata": {},
   "source": [
    "# Limpieza de Datos\n",
    "\n",
    "La base de datos que limpiaremos contiene detalles de las transacciones de los usuarios, incluidos sus datos demográficos y su comportamiento de compra. Esta base incluye variables como el ID de usuario, edad, sexo, país, monto de compra, fecha de compra y categoría de producto. A través de su limpieza, buscaremos organizar y depurar la información para facilitar el análisis de las tendencias de consumo, las influencias demográficas en las decisiones de compra y la segmentación del mercado, lo que permitirá obtener insights valiosos sobre el comportamiento de los consumidores.\n",
    "\n",
    "Los pasos de limpieza incluyen:\n",
    "- Valores faltantes por columnas (Nulos)\n",
    "- Renombrar las variables\n",
    "- Conversión de datos\n",
    "- Valores atípicos/inconsistentes en las variables numéricas\n",
    "- Revisión de valores duplicados\n"
   ]
  },
  {
   "cell_type": "code",
   "execution_count": 26,
   "id": "bebefd26",
   "metadata": {},
   "outputs": [],
   "source": [
    "# Bibliotecas necesarias\n",
    "import pandas as pd\n"
   ]
  },
  {
   "cell_type": "code",
   "execution_count": 27,
   "id": "ee87425e",
   "metadata": {},
   "outputs": [],
   "source": [
    "# Cargar los datos\n",
    "data = 'compras_online.csv'\n",
    "df = pd.read_csv(data)\n"
   ]
  },
  {
   "cell_type": "markdown",
   "id": "c36596cc",
   "metadata": {},
   "source": [
    "## Valores Faltantes por columna (Nulos)"
   ]
  },
  {
   "cell_type": "markdown",
   "id": "9da83a88",
   "metadata": {},
   "source": [
    "Eliminar estos valores es esencial para garantizar la precisión del análisis de datos, ya que pueden distorsionar los resultados, afectando la calidad de las predicciones y conclusiones. "
   ]
  },
  {
   "cell_type": "code",
   "execution_count": 28,
   "id": "073d76f2",
   "metadata": {},
   "outputs": [
    {
     "name": "stdout",
     "output_type": "stream",
     "text": [
      "Valores nulos por columna:\n",
      "User ID                0\n",
      "Age                 1500\n",
      "Gender               750\n",
      "Country             1200\n",
      "Purchase Amount     1800\n",
      "Purchase Date       1050\n",
      "Product Category     900\n",
      "dtype: int64\n"
     ]
    }
   ],
   "source": [
    "vls_nulos = df.isnull().sum()\n",
    "print(\"Valores nulos por columna:\")\n",
    "print(vls_nulos)\n"
   ]
  },
  {
   "cell_type": "code",
   "execution_count": 29,
   "id": "7c700ab0",
   "metadata": {},
   "outputs": [
    {
     "data": {
      "text/plain": [
       "User ID             0\n",
       "Age                 0\n",
       "Gender              0\n",
       "Country             0\n",
       "Purchase Amount     0\n",
       "Purchase Date       0\n",
       "Product Category    0\n",
       "dtype: int64"
      ]
     },
     "execution_count": 29,
     "metadata": {},
     "output_type": "execute_result"
    }
   ],
   "source": [
    "# Eliminar valores nulos\n",
    "\n",
    "df_sin_nulos = df.dropna()\n",
    "df_sin_nulos.isnull().sum()"
   ]
  },
  {
   "cell_type": "markdown",
   "id": "c16ae602",
   "metadata": {},
   "source": [
    "Finalmente, podemos observar, que el número de observaciones se redujo notablemente al eliminar los valores nulos."
   ]
  },
  {
   "cell_type": "code",
   "execution_count": 30,
   "id": "b3958541",
   "metadata": {},
   "outputs": [
    {
     "name": "stdout",
     "output_type": "stream",
     "text": [
      "Número de filas antes de la eliminación: 15000\n",
      "Número de filas después de la eliminación: 9076\n"
     ]
    }
   ],
   "source": [
    "print(\"Número de filas antes de la eliminación:\", len(df))  # df_original es tu DataFrame original\n",
    "print(\"Número de filas después de la eliminación:\", len(df_sin_nulos))"
   ]
  },
  {
   "cell_type": "markdown",
   "id": "fe628d2b",
   "metadata": {},
   "source": [
    "## Renombrar las variables"
   ]
  },
  {
   "cell_type": "markdown",
   "id": "2373b491",
   "metadata": {},
   "source": [
    "Esto nos facilita el análisis, asegurando que sean claros los nombres de las variables a utilizar. También mejora la legibilidad del código, ayuda a evitar confusión durante el análisis y puede optimizar la interpretación de los resultados."
   ]
  },
  {
   "cell_type": "code",
   "execution_count": 31,
   "id": "0e469e8b",
   "metadata": {},
   "outputs": [
    {
     "data": {
      "text/html": [
       "<div>\n",
       "<style scoped>\n",
       "    .dataframe tbody tr th:only-of-type {\n",
       "        vertical-align: middle;\n",
       "    }\n",
       "\n",
       "    .dataframe tbody tr th {\n",
       "        vertical-align: top;\n",
       "    }\n",
       "\n",
       "    .dataframe thead th {\n",
       "        text-align: right;\n",
       "    }\n",
       "</style>\n",
       "<table border=\"1\" class=\"dataframe\">\n",
       "  <thead>\n",
       "    <tr style=\"text-align: right;\">\n",
       "      <th></th>\n",
       "      <th>Usuario</th>\n",
       "      <th>Edad</th>\n",
       "      <th>Género</th>\n",
       "      <th>Pais</th>\n",
       "      <th>Monto_total</th>\n",
       "      <th>Fecha_compra</th>\n",
       "      <th>Categoria_producto</th>\n",
       "    </tr>\n",
       "  </thead>\n",
       "  <tbody>\n",
       "    <tr>\n",
       "      <th>0</th>\n",
       "      <td>1</td>\n",
       "      <td>56.0</td>\n",
       "      <td>Female</td>\n",
       "      <td>USA</td>\n",
       "      <td>331.79</td>\n",
       "      <td>2021-11-21</td>\n",
       "      <td>Sports</td>\n",
       "    </tr>\n",
       "    <tr>\n",
       "      <th>1</th>\n",
       "      <td>2</td>\n",
       "      <td>69.0</td>\n",
       "      <td>Male</td>\n",
       "      <td>Australia</td>\n",
       "      <td>335.72</td>\n",
       "      <td>2022-03-05</td>\n",
       "      <td>Home &amp; Kitchen</td>\n",
       "    </tr>\n",
       "    <tr>\n",
       "      <th>3</th>\n",
       "      <td>4</td>\n",
       "      <td>32.0</td>\n",
       "      <td>Male</td>\n",
       "      <td>Germany</td>\n",
       "      <td>80.97</td>\n",
       "      <td>2023-06-08</td>\n",
       "      <td>Sports</td>\n",
       "    </tr>\n",
       "    <tr>\n",
       "      <th>6</th>\n",
       "      <td>7</td>\n",
       "      <td>38.0</td>\n",
       "      <td>Female</td>\n",
       "      <td>Canada</td>\n",
       "      <td>222.20</td>\n",
       "      <td>2022-02-23</td>\n",
       "      <td>Beauty</td>\n",
       "    </tr>\n",
       "    <tr>\n",
       "      <th>7</th>\n",
       "      <td>8</td>\n",
       "      <td>56.0</td>\n",
       "      <td>Male</td>\n",
       "      <td>USA</td>\n",
       "      <td>217.27</td>\n",
       "      <td>2021-09-08</td>\n",
       "      <td>Sports</td>\n",
       "    </tr>\n",
       "    <tr>\n",
       "      <th>...</th>\n",
       "      <td>...</td>\n",
       "      <td>...</td>\n",
       "      <td>...</td>\n",
       "      <td>...</td>\n",
       "      <td>...</td>\n",
       "      <td>...</td>\n",
       "      <td>...</td>\n",
       "    </tr>\n",
       "    <tr>\n",
       "      <th>14993</th>\n",
       "      <td>14994</td>\n",
       "      <td>54.0</td>\n",
       "      <td>Male</td>\n",
       "      <td>Australia</td>\n",
       "      <td>200.24</td>\n",
       "      <td>2021-11-26</td>\n",
       "      <td>Clothing</td>\n",
       "    </tr>\n",
       "    <tr>\n",
       "      <th>14995</th>\n",
       "      <td>14996</td>\n",
       "      <td>21.0</td>\n",
       "      <td>Male</td>\n",
       "      <td>UK</td>\n",
       "      <td>427.07</td>\n",
       "      <td>2023-08-20</td>\n",
       "      <td>Clothing</td>\n",
       "    </tr>\n",
       "    <tr>\n",
       "      <th>14996</th>\n",
       "      <td>14997</td>\n",
       "      <td>53.0</td>\n",
       "      <td>Other</td>\n",
       "      <td>UK</td>\n",
       "      <td>27.73</td>\n",
       "      <td>2021-07-23</td>\n",
       "      <td>Home &amp; Kitchen</td>\n",
       "    </tr>\n",
       "    <tr>\n",
       "      <th>14997</th>\n",
       "      <td>14998</td>\n",
       "      <td>65.0</td>\n",
       "      <td>Female</td>\n",
       "      <td>Canada</td>\n",
       "      <td>108.57</td>\n",
       "      <td>2022-02-21</td>\n",
       "      <td>Beauty</td>\n",
       "    </tr>\n",
       "    <tr>\n",
       "      <th>14998</th>\n",
       "      <td>14999</td>\n",
       "      <td>34.0</td>\n",
       "      <td>Other</td>\n",
       "      <td>USA</td>\n",
       "      <td>105.57</td>\n",
       "      <td>2022-08-25</td>\n",
       "      <td>Books</td>\n",
       "    </tr>\n",
       "  </tbody>\n",
       "</table>\n",
       "<p>9076 rows × 7 columns</p>\n",
       "</div>"
      ],
      "text/plain": [
       "       Usuario  Edad  Género       Pais  Monto_total Fecha_compra  \\\n",
       "0            1  56.0  Female        USA       331.79   2021-11-21   \n",
       "1            2  69.0    Male  Australia       335.72   2022-03-05   \n",
       "3            4  32.0    Male    Germany        80.97   2023-06-08   \n",
       "6            7  38.0  Female     Canada       222.20   2022-02-23   \n",
       "7            8  56.0    Male        USA       217.27   2021-09-08   \n",
       "...        ...   ...     ...        ...          ...          ...   \n",
       "14993    14994  54.0    Male  Australia       200.24   2021-11-26   \n",
       "14995    14996  21.0    Male         UK       427.07   2023-08-20   \n",
       "14996    14997  53.0   Other         UK        27.73   2021-07-23   \n",
       "14997    14998  65.0  Female     Canada       108.57   2022-02-21   \n",
       "14998    14999  34.0   Other        USA       105.57   2022-08-25   \n",
       "\n",
       "      Categoria_producto  \n",
       "0                 Sports  \n",
       "1         Home & Kitchen  \n",
       "3                 Sports  \n",
       "6                 Beauty  \n",
       "7                 Sports  \n",
       "...                  ...  \n",
       "14993           Clothing  \n",
       "14995           Clothing  \n",
       "14996     Home & Kitchen  \n",
       "14997             Beauty  \n",
       "14998              Books  \n",
       "\n",
       "[9076 rows x 7 columns]"
      ]
     },
     "execution_count": 31,
     "metadata": {},
     "output_type": "execute_result"
    }
   ],
   "source": [
    "# Renombrar las variables\n",
    "\n",
    "df = df_sin_nulos.rename(columns={\n",
    "    'User ID': 'Usuario',\n",
    "    'Age': 'Edad',\n",
    "    'Gender': 'Género',\n",
    "    'Country': 'Pais',\n",
    "    'Purchase Amount': 'Monto_total',\n",
    "    'Purchase Date': 'Fecha_compra',\n",
    "    'Product Category': 'Categoria_producto'})\n",
    "\n",
    "df"
   ]
  },
  {
   "cell_type": "markdown",
   "id": "1583e770",
   "metadata": {},
   "source": [
    "## Conversión de Datos\n",
    "\n",
    "Convertimos las variables Género y Categoría del producto de tipo texto a tipo categórico. Esto nos ayuda a optimizar el almacenamiento y mejorar nuestro análisis."
   ]
  },
  {
   "cell_type": "markdown",
   "id": "0701e93f",
   "metadata": {},
   "source": [
    "Inicialmente, vemos que las variables Género y Categoría del Producto, están cómo tipo texto, pero se podrían considerar categóricas."
   ]
  },
  {
   "cell_type": "code",
   "execution_count": 32,
   "id": "44082649",
   "metadata": {},
   "outputs": [
    {
     "name": "stdout",
     "output_type": "stream",
     "text": [
      "Usuario                 int64\n",
      "Edad                  float64\n",
      "Género                 object\n",
      "Pais                   object\n",
      "Monto_total           float64\n",
      "Fecha_compra           object\n",
      "Categoria_producto     object\n",
      "dtype: object\n"
     ]
    }
   ],
   "source": [
    "dtype_original = df.dtypes\n",
    "print(df.dtypes)"
   ]
  },
  {
   "cell_type": "markdown",
   "id": "cdd86eb0",
   "metadata": {},
   "source": [
    "Convertimos estas variables de float a category"
   ]
  },
  {
   "cell_type": "code",
   "execution_count": 33,
   "id": "44b5f31d",
   "metadata": {},
   "outputs": [
    {
     "name": "stdout",
     "output_type": "stream",
     "text": [
      "Usuario                  int64\n",
      "Edad                   float64\n",
      "Género                  object\n",
      "Pais                    object\n",
      "Monto_total            float64\n",
      "Fecha_compra            object\n",
      "Categoria_producto    category\n",
      "Genero                category\n",
      "dtype: object\n"
     ]
    }
   ],
   "source": [
    "df['Genero'] = df['Género'].astype('category')\n",
    "df['Categoria_producto'] = df['Categoria_producto'].astype('category')\n",
    "\n",
    "print(df.dtypes)"
   ]
  },
  {
   "cell_type": "markdown",
   "id": "28cf82b6",
   "metadata": {},
   "source": [
    "## Valores atípicos/inconsistentes en las variables numéricas"
   ]
  },
  {
   "cell_type": "code",
   "execution_count": null,
   "id": "72eca27f",
   "metadata": {},
   "outputs": [
    {
     "name": "stdout",
     "output_type": "stream",
     "text": [
      "Filas antes de eliminar valores atípicos: 9076\n",
      "Filas después de eliminar valores atípicos: 9076\n",
      "DataFrame después de eliminar valores atípicos:\n",
      "       User ID   Age  Purchase Amount\n",
      "0            1  56.0           331.79\n",
      "1            2  69.0           335.72\n",
      "3            4  32.0            80.97\n",
      "6            7  38.0           222.20\n",
      "7            8  56.0           217.27\n",
      "...        ...   ...              ...\n",
      "14993    14994  54.0           200.24\n",
      "14995    14996  21.0           427.07\n",
      "14996    14997  53.0            27.73\n",
      "14997    14998  65.0           108.57\n",
      "14998    14999  34.0           105.57\n",
      "\n",
      "[9076 rows x 3 columns]\n"
     ]
    }
   ],
   "source": [
    "df_numerico = df_sin_nulos.select_dtypes(include=['float64', 'int64'])\n",
    "\n",
    "Q1 = df_numerico.quantile(0.25)\n",
    "Q3 = df_numerico.quantile(0.75)\n",
    "IQR = Q3 - Q1\n",
    "df_numerico = df_numerico[~((df_numerico < (Q1 - 1.5 * IQR)) | (df_numerico > (Q3 + 1.5 * IQR))).any(axis=1)]\n",
    "\n",
    "print(f\"Filas antes de eliminar valores atípicos: {df.shape[0]}\")\n",
    "print(f\"Filas después de eliminar valores atípicos: {df_numerico.shape[0]}\")\n",
    "print(\"DataFrame después de eliminar valores atípicos:\")\n",
    "print(df_numerico)"
   ]
  },
  {
   "cell_type": "markdown",
   "id": "c4cc7ffe",
   "metadata": {},
   "source": [
    "Podemos observar que ya en la base de datos no se encuentran valores atípicos o inconsistentes."
   ]
  },
  {
   "cell_type": "markdown",
   "id": "216d66d3",
   "metadata": {},
   "source": [
    "## Revisión valores duplicados"
   ]
  },
  {
   "cell_type": "code",
   "execution_count": 35,
   "id": "17ba1b66",
   "metadata": {},
   "outputs": [
    {
     "name": "stdout",
     "output_type": "stream",
     "text": [
      "Número de filas con duplicados: 9076\n",
      "Número de filas sin duplicados: 9076\n",
      "Duplicados restantes: 0\n"
     ]
    }
   ],
   "source": [
    "df_antes = df.copy()\n",
    "\n",
    "df.drop_duplicates(inplace=True)\n",
    "\n",
    "print(f\"Número de filas con duplicados: {df_antes.shape[0]}\")\n",
    "print(f\"Número de filas sin duplicados: {df.shape[0]}\")\n",
    "\n",
    "# Comprobar si hay duplicados restantes\n",
    "duplicated = df.duplicated().sum()\n",
    "print(f\"Duplicados restantes: {duplicated}\")\n"
   ]
  },
  {
   "cell_type": "markdown",
   "id": "9f539568",
   "metadata": {},
   "source": []
  }
 ],
 "metadata": {
  "kernelspec": {
   "display_name": "ciencia_datos",
   "language": "python",
   "name": "python3"
  },
  "language_info": {
   "codemirror_mode": {
    "name": "ipython",
    "version": 3
   },
   "file_extension": ".py",
   "mimetype": "text/x-python",
   "name": "python",
   "nbconvert_exporter": "python",
   "pygments_lexer": "ipython3",
   "version": "3.12.5"
  }
 },
 "nbformat": 4,
 "nbformat_minor": 5
}
